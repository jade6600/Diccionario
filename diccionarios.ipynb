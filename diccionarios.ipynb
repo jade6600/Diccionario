{
  "nbformat": 4,
  "nbformat_minor": 0,
  "metadata": {
    "colab": {
      "provenance": [],
      "authorship_tag": "ABX9TyMtBPvi8PhVJMTwB+ye7Cji",
      "include_colab_link": true
    },
    "kernelspec": {
      "name": "python3",
      "display_name": "Python 3"
    },
    "language_info": {
      "name": "python"
    }
  },
  "cells": [
    {
      "cell_type": "markdown",
      "metadata": {
        "id": "view-in-github",
        "colab_type": "text"
      },
      "source": [
        "<a href=\"https://colab.research.google.com/github/jade6600/Diccionario/blob/main/diccionarios.ipynb\" target=\"_parent\"><img src=\"https://colab.research.google.com/assets/colab-badge.svg\" alt=\"Open In Colab\"/></a>"
      ]
    },
    {
      "cell_type": "markdown",
      "source": [
        "# Diccionarios\n",
        "\n",
        "- Son datos estructurados,es decir, hacen referencia a una coleccion de datos.\n",
        "- Son una coleccion desordenada de pares de datos de la forma clave:valor conocidos como elementos o items.\n",
        "- Son mutables por tanto una vez definido el diccionario se le pueden agregar nuevos elementos,modificar o eliminar algunos de los que ya tiene.\n",
        "- Tambien se les conoce como mapa de hash o arreglos asociativos.\n",
        "- En python los diccionarios son tipo dict y se utiliza la siguiente sintaxis para crear una variable de este tipo:\n",
        "\n",
        "`nombre_dict = {clave1:valor1,clave2:valor2,......}`\n",
        "\n",
        "- Cada item o elemento tiene clave:valor.\n",
        "- En cada item hay una clavey uno o mas valores.\n",
        "- Si se desconoce el valor se puede llenar con `None`.\n",
        "- Los elementos dl diccionaios se indexan por la clave.\n",
        "- Las claves solo pueden ser datos inmutables.\n",
        "- Las claves no pueden repetirse dentro deun diccionario."
      ],
      "metadata": {
        "id": "MjcanqQ6pUA7"
      }
    },
    {
      "cell_type": "code",
      "source": [
        "# Diccionario clave tipo cadena\n",
        "\n",
        "num_meses = {'ene':1, 'feb':2, 'mar':3, 'abr':4, 'may':5, 'jun':6, 'jul':7, 'ago':8, 'sep':9, 'oct':10, 'nov':11, 'dic':12}\n",
        "print(num_meses)\n",
        "\n",
        "nombre_meses = {1:'ene', 2:'feb', 3:'mar', 4:'abr', 5:'may', 6:'jun', 7:'jul', 8:'ago', 9:'sep', 10:'oct', 11:'nov', 12:'dic'}\n",
        "print(nombre_meses)\n",
        "\n",
        "frutas = {'manzana':34, 'pera':45, 'uva':23}\n",
        "print(frutas)\n",
        "\n",
        "# agregar elementos\n",
        "frutas['cereza'] =  90\n",
        "print(frutas)\n",
        "\n",
        "# modificar un elemento\n",
        "frutas['cereza'] = 100\n",
        "print(frutas)\n",
        "\n",
        "# eliminar un elemento\n",
        "del frutas['cereza']\n",
        "print(frutas)\n",
        "\n",
        "# construir valor dada una clave\n",
        "print('El valor de manzana es: ', frutas['manzana'])\n",
        "\n"
      ],
      "metadata": {
        "colab": {
          "base_uri": "https://localhost:8080/"
        },
        "collapsed": true,
        "id": "EVLP3bkupg2U",
        "outputId": "96fce006-3733-4735-b512-bd8a2ac502bd"
      },
      "execution_count": 6,
      "outputs": [
        {
          "output_type": "stream",
          "name": "stdout",
          "text": [
            "{'ene': 1, 'feb': 2, 'mar': 3, 'abr': 4, 'may': 5, 'jun': 6, 'jul': 7, 'ago': 8, 'sep': 9, 'oct': 10, 'nov': 11, 'dic': 12}\n",
            "{1: 'ene', 2: 'feb', 3: 'mar', 4: 'abr', 5: 'may', 6: 'jun', 7: 'jul', 8: 'ago', 9: 'sep', 10: 'oct', 11: 'nov', 12: 'dic'}\n",
            "{'manzana': 34, 'pera': 45, 'uva': 23}\n",
            "{'manzana': 34, 'pera': 45, 'uva': 23, 'cereza': 90}\n",
            "{'manzana': 34, 'pera': 45, 'uva': 23, 'cereza': 100}\n",
            "{'manzana': 34, 'pera': 45, 'uva': 23}\n",
            "El valor de manzana es:  34\n"
          ]
        }
      ]
    }
  ]
}